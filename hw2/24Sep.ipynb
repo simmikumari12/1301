{
 "cells": [
  {
   "cell_type": "code",
   "execution_count": 32,
   "metadata": {},
   "outputs": [
    {
     "data": {
      "text/plain": [
       "[10, 11, 12, 13, 14, 15, 16, 17, 18, 19, 20]"
      ]
     },
     "execution_count": 32,
     "metadata": {},
     "output_type": "execute_result"
    }
   ],
   "source": [
    "xs = [10,11,12,13,14,15,16,7,18,19,20]\n",
    "list(range(10,21))"
   ]
  },
  {
   "cell_type": "code",
   "execution_count": 36,
   "metadata": {},
   "outputs": [
    {
     "name": "stdout",
     "output_type": "stream",
     "text": [
      "{'s': 1, 'c': 0, 'h': 0, 'd': 0}\n"
     ]
    },
    {
     "data": {
      "text/plain": [
       "{'s': 1, 'c': 0, 'h': 0, 'd': 0}"
      ]
     },
     "execution_count": 36,
     "metadata": {},
     "output_type": "execute_result"
    }
   ],
   "source": [
    "def process_suits(hand):\n",
    "    dsuit = {'s':0, 'c':0, 'h':0, 'd':0}\n",
    "    cards = hand.split(\":\")\n",
    "    for card in cards:\n",
    "        dsuit[card[1]] = dsuit[card[1]] + 1\n",
    "        return dsuit\n",
    "\n",
    "\n",
    "\n"
   ]
  },
  {
   "cell_type": "code",
   "execution_count": null,
   "metadata": {},
   "outputs": [],
   "source": [
    "d = process_suits(\"2c:5s:4s:3s:6s\")\n",
    "print(d)"
   ]
  },
  {
   "cell_type": "code",
   "execution_count": 34,
   "metadata": {},
   "outputs": [],
   "source": [
    "def process_ranks(hand):\n",
    "    drank ={}\n",
    "    cards = hand.split(':')\n",
    "    for cards[0] in cards:\n",
    "        cards.replace('T','11')\n",
    "        cards.replace('J','11')\n",
    "        cards.replace('Q','12')\n",
    "        cards.replace('K','13')\n",
    "        cards.replace('A','14')\n",
    "    for n in range(2,15):\n",
    "        drank[n] = 0\n",
    "    if drank[n] < drank[n+1]:\n",
    "        return False"
   ]
  },
  {
   "cell_type": "code",
   "execution_count": 50,
   "metadata": {},
   "outputs": [],
   "source": [
    "# takes the suits_dict for a particular hand as input and returns True \n",
    "# if the hand contains a \"flush\"\n",
    "\n",
    "def check_flush(process_suit):\n",
    "    if 's' == '5':\n",
    "        return True\n",
    "    if 'c' == '5':\n",
    "        return True\n",
    "    if 'h' == '5':\n",
    "        return True\n",
    "    if 'd' == '5':\n",
    "        return True"
   ]
  },
  {
   "cell_type": "code",
   "execution_count": 51,
   "metadata": {},
   "outputs": [
    {
     "name": "stdout",
     "output_type": "stream",
     "text": [
      "{2: 5, 3: 0, 4: 0, 5: 0, 6: 0, 7: 0, 8: 0, 9: 0, 10: 0, 11: 0, 12: 0, 13: 0, 14: 0}\n"
     ]
    }
   ],
   "source": [
    "d = process_ranks(\"2c:2c:2s:2s:2s\")\n",
    "print(d)"
   ]
  },
  {
   "cell_type": "code",
   "execution_count": 44,
   "metadata": {},
   "outputs": [],
   "source": [
    "def process_ranks(hand):\n",
    "    drank = {}\n",
    "    for n in range(2,15):\n",
    "        drank[n] = 0\n",
    "    cards = hand.split(\":\")\n",
    "    convert = {'2':2, '3':3, '4': 4, '5': 5, '6':6, '7':7, '8':8, '9':9, 't':10, 'j':11, 'q':12, 'k':13, 'a':14}\n",
    "    for card in cards:\n",
    "        rank = card[0]\n",
    "        drank[convert[rank]] = drank[convert[rank]] + 1 #double dictionary\n",
    "\n",
    "    return drank\n",
    "\n",
    "    "
   ]
  },
  {
   "cell_type": "code",
   "execution_count": null,
   "metadata": {},
   "outputs": [],
   "source": [
    "def check_straight(drank):\n",
    "    if "
   ]
  },
  {
   "cell_type": "code",
   "execution_count": 49,
   "metadata": {},
   "outputs": [],
   "source": [
    "\n",
    "\n"
   ]
  },
  {
   "cell_type": "code",
   "execution_count": 39,
   "metadata": {},
   "outputs": [],
   "source": [
    "convert = {'2':2, '3':3, '4': 4, '5': 5, '6':6, '7':7, '8':8, '9':9, 't':10, 'j':11, 'q':12, 'k':13, 'a':14}"
   ]
  },
  {
   "cell_type": "code",
   "execution_count": 40,
   "metadata": {},
   "outputs": [
    {
     "data": {
      "text/plain": [
       "12"
      ]
     },
     "execution_count": 40,
     "metadata": {},
     "output_type": "execute_result"
    }
   ],
   "source": [
    "convert['q']"
   ]
  }
 ],
 "metadata": {
  "kernelspec": {
   "display_name": "Python 3",
   "language": "python",
   "name": "python3"
  },
  "language_info": {
   "codemirror_mode": {
    "name": "ipython",
    "version": 3
   },
   "file_extension": ".py",
   "mimetype": "text/x-python",
   "name": "python",
   "nbconvert_exporter": "python",
   "pygments_lexer": "ipython3",
   "version": "3.12.5"
  }
 },
 "nbformat": 4,
 "nbformat_minor": 2
}
