{
 "cells": [
  {
   "cell_type": "code",
   "execution_count": null,
   "metadata": {
    "vscode": {
     "languageId": "plaintext"
    }
   },
   "outputs": [],
   "source": []
  },
  {
   "cell_type": "code",
   "execution_count": null,
   "metadata": {},
   "outputs": [],
   "source": [
    "xs = [1,2,3]\n",
    "print(xs)\n",
    "xs.append(5) # dot notation can be used only on objects, so whatever is in the left of dot operation gives object\n"
   ]
  },
  {
   "cell_type": "markdown",
   "metadata": {},
   "source": [
    "Order in which you will complete the parts in P5:\n",
    "\n",
    "1. __str__ methods in 4 classes.\n",
    "2. load_schema() - insert in Attributes\n",
    "3. define new relation - insert() in Relations\n",
    "4. delete relation - delete() in Relations\n",
    "5. modify\n",
    "6. store_schema()"
   ]
  },
  {
   "cell_type": "code",
   "execution_count": null,
   "metadata": {},
   "outputs": [],
   "source": [
    "class Attribute:\n",
    "\n",
    "  def __init__(self, an, at, ky):\n",
    "    self.aname = an\t# attribute name, e.g., \"sno\"\n",
    "    self.atype = at\t# attribute type, must be \"INTEGER\" or \"STRING\"\n",
    "    self.key = ky\t# boolean. True indicating attribute is KEY, False otherwise\n",
    "\n",
    "  # getters\n",
    "\n",
    "  def get_aname(self):\n",
    "    pass\n",
    "\n",
    "  def get_atype(self):\n",
    "    pass\n",
    "\n",
    "  def get_key(self):\n",
    "    pass\n",
    "\n",
    "  # setters\n",
    "\n",
    "  def set_aname(self,an):\n",
    "    pass\n",
    "\n",
    "  def set_atype(self,at):\n",
    "    pass\n",
    "\n",
    "  def set_key(self,ky):\n",
    "    pass\n",
    "\n",
    "  # __str__\n",
    "\n",
    "  def __str__(self):\n",
    "    pass"
   ]
  },
  {
   "cell_type": "code",
   "execution_count": null,
   "metadata": {},
   "outputs": [],
   "source": [
    "#from Attribute import *\n",
    "\n",
    "class Attributes:\n",
    "\n",
    "  def __init__(self):\n",
    "    self.attributes = []\n",
    "\n",
    "  # insert attribute a in position pos\n",
    "  # return True if success, False otherwise\n",
    "  def insert(self,a,pos):\n",
    "    pass\n",
    " \n",
    "  # delete attribute with name aname\n",
    "  # return True if success, False otherwise\n",
    "  def delete(self,aname):\n",
    "    pass\n",
    "\n",
    "  # return True if attribute with name aname is present\n",
    "  # return False otherwise\n",
    "  def member(self,aname):\n",
    "    pass\n",
    "\n",
    "  # return number of attributes\n",
    "  def size(self):\n",
    "    pass\n",
    "\n",
    "  # return string to print attributes.\n",
    "  # see sample run of program for exact formatting\n",
    "  def __str__(self):\n",
    "    pass"
   ]
  },
  {
   "cell_type": "code",
   "execution_count": null,
   "metadata": {},
   "outputs": [],
   "source": [
    "class Relation:\n",
    "\n",
    "  def __init__(self, rname, attrs):\n",
    "    self.rname = rname\n",
    "    self.attributes = attrs\n",
    "\n",
    "  # return string representation of relation\n",
    "  # see sample run for formatting\n",
    "  def __str__(self):\n",
    "    pass"
   ]
  },
  {
   "cell_type": "code",
   "execution_count": null,
   "metadata": {},
   "outputs": [],
   "source": [
    "#from Attributes import *\n",
    "#from Relation import *\n",
    "\n",
    "class Relations:\n",
    "\n",
    "  def __init__(self):\n",
    "    self.relations = {}\n",
    "\n",
    "  # insert relation object r into dictionary\n",
    "  # return True if success, False otherwise\n",
    "  def insert(self,r):\n",
    "    pass\n",
    "\n",
    "  # delete relation with name rname from dictionary\n",
    "  # return relation object for name if success, None otherwise\n",
    "  def delete(self,rname):\n",
    "    pass\n",
    "\n",
    "  # return relation object for relation with name rname\n",
    "  # return None if not found\n",
    "  def get_relation(self,rname):\n",
    "    pass\n",
    "\n",
    "  # return string representation of all relation objects\n",
    "  # see sample run for formatting\n",
    "  def __str__(self):\n",
    "    pass\n"
   ]
  },
  {
   "cell_type": "code",
   "execution_count": null,
   "metadata": {},
   "outputs": [],
   "source": [
    "#student,sno:i:y,sname:s:n,phone:s:n\n",
    "def load_schema(fname):\n",
    "    with open(fname) as f:\n",
    "        data = f.read().splitines()\n",
    "    relations = Relations()\n",
    "    for d in data:\n",
    "        # rname, *attrs = d.split(\",\") #this can replace next 3 lines\n",
    "        xs = d.split(\",\")\n",
    "        rname = xs[0]\n",
    "        attrs = xs[1:]\n",
    "        attrs_obj = Attributes()\n",
    "        for attr in attrs:\n",
    "            aname, atype, key = attr.aplit(\":\")\n",
    "            a = Attribute(aname,atype,key)\n",
    "            key = True if key == 'y' else False\n",
    "            #key = (key = 'y')\n",
    "            atype = \"STRING\" if atype == 's' else 'INTEGER'\n",
    "            a = Attribute(atype,atype,key)\n",
    "            attrs_obj.insert(a,pos+1)\n",
    "        r = Relation[rname,attrs_obj]\n",
    "        relations.insert(r)\n"
   ]
  },
  {
   "cell_type": "code",
   "execution_count": null,
   "metadata": {},
   "outputs": [],
   "source": []
  }
 ],
 "metadata": {
  "language_info": {
   "name": "python"
  }
 },
 "nbformat": 4,
 "nbformat_minor": 2
}
